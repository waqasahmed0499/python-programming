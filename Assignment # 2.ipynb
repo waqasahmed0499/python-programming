{
 "cells": [
  {
   "cell_type": "code",
   "execution_count": 20,
   "metadata": {},
   "outputs": [
    {
     "name": "stdout",
     "output_type": "stream",
     "text": [
      "Enter marks of the first subject: 60\n",
      "Enter marks of the second subject: 80\n",
      "Enter marks of the third subject: 90\n",
      "Enter marks of the fourth subject: 50\n",
      "Enter marks of the fifth subject: 80\n",
      "Grade: A\n"
     ]
    }
   ],
   "source": [
    "sub1=int(input(\"Enter marks of the first subject: \"));\n",
    "sub2=int(input(\"Enter marks of the second subject: \"));\n",
    "sub3=int(input(\"Enter marks of the third subject: \"));\n",
    "sub4=int(input(\"Enter marks of the fourth subject: \"));\n",
    "sub5=int(input(\"Enter marks of the fifth subject: \"));\n",
    "sum=(sub1+sub2+sub3+sub4+sub5);\n",
    "avg=sum/5;\n",
    "if ('avg'>='90.0'):\n",
    "    print(\"Grade: A\")\n",
    "elif ('avg'>='80.0' & 'avg'<'90.0'):\n",
    "    print(\"Grade: B\")\n",
    "elif ('avg'>='70' & 'avg'<'80'):\n",
    "    print(\"Grade: C\")\n",
    "elif ('avg'>='60' & 'avg'<'70'):\n",
    "    print(\"Grade: D\")\n",
    "else:\n",
    "    print(\"Grade: F\")"
   ]
  },
  {
   "cell_type": "code",
   "execution_count": 21,
   "metadata": {},
   "outputs": [
    {
     "name": "stdout",
     "output_type": "stream",
     "text": [
      "Enter a number: 3\n",
      "This is an odd number.\n"
     ]
    }
   ],
   "source": [
    "num = int(input(\"Enter a number: \"))\n",
    "mod = num % 2\n",
    "if mod > 0:\n",
    "    print(\"This is an odd number.\")\n",
    "else:\n",
    "    print(\"This is an even number.\")"
   ]
  },
  {
   "cell_type": "code",
   "execution_count": 22,
   "metadata": {},
   "outputs": [
    {
     "name": "stdout",
     "output_type": "stream",
     "text": [
      "5\n"
     ]
    }
   ],
   "source": [
    "L=[1,2,3,4,5]\n",
    "length_of_list = len(L)\n",
    "print(length_of_list)"
   ]
  },
  {
   "cell_type": "code",
   "execution_count": 36,
   "metadata": {},
   "outputs": [
    {
     "name": "stdout",
     "output_type": "stream",
     "text": [
      "sum is : 1\n",
      "sum is : 3\n",
      "sum is : 6\n",
      "sum is : 10\n",
      "sum is : 15\n"
     ]
    }
   ],
   "source": [
    "list=[1,2,3,4,5]\n",
    "m=0\n",
    "for val in list:\n",
    "    m=m+val\n",
    "    print(\"sum is :\",m)"
   ]
  },
  {
   "cell_type": "code",
   "execution_count": 38,
   "metadata": {},
   "outputs": [
    {
     "name": "stdout",
     "output_type": "stream",
     "text": [
      "Maximum element in the list is : 5\n"
     ]
    }
   ],
   "source": [
    "lst=[1,2,3,4,5]\n",
    "print(\"Maximum element in the list is :\", max(lst))"
   ]
  },
  {
   "cell_type": "code",
   "execution_count": 45,
   "metadata": {},
   "outputs": [
    {
     "name": "stdout",
     "output_type": "stream",
     "text": [
      "1\n",
      "1\n",
      "2\n",
      "3\n"
     ]
    }
   ],
   "source": [
    "a = [1, 1, 2, 3, 5, 8, 13, 21, 34, 55, 89]\n",
    "for item in a:\n",
    "    if(item< 5):\n",
    "        print(a[item]);"
   ]
  },
  {
   "cell_type": "code",
   "execution_count": null,
   "metadata": {},
   "outputs": [],
   "source": []
  }
 ],
 "metadata": {
  "kernelspec": {
   "display_name": "Python 3",
   "language": "python",
   "name": "python3"
  },
  "language_info": {
   "codemirror_mode": {
    "name": "ipython",
    "version": 3
   },
   "file_extension": ".py",
   "mimetype": "text/x-python",
   "name": "python",
   "nbconvert_exporter": "python",
   "pygments_lexer": "ipython3",
   "version": "3.7.3"
  }
 },
 "nbformat": 4,
 "nbformat_minor": 4
}
